{
 "cells": [
  {
   "cell_type": "code",
   "execution_count": 3,
   "source": [
    "import numpy as np\n",
    "import matplotlib as mpl\n",
    "import matplotlib.pyplot as plt"
   ],
   "outputs": [],
   "metadata": {}
  },
  {
   "cell_type": "markdown",
   "source": [
    "The global coordinate system is denoted by:\n",
    "$$\\left\\{^{\\mathcal{N}}\\hat{\\mathbf{X}}, ^{\\mathcal{N}}\\hat{\\mathbf{Y}}, ^{\\mathcal{N}}\\hat{\\mathbf{Z}}\\right\\}$$\n",
    "\n",
    "The local, body-fixed, coordinate system is denoted by:\n",
    "$$\\left\\{^{\\mathcal{B}}\\hat{\\mathbf{x}}, ^{\\mathcal{B}}\\hat{\\mathbf{y}}, ^{\\mathcal{B}}\\hat{\\mathbf{z}}\\right\\}$$"
   ],
   "metadata": {}
  },
  {
   "cell_type": "code",
   "execution_count": 4,
   "source": [
    "# Global frame\n",
    "NX = np.array([[1.], [0.]])\n",
    "NY = np.array([[0.], [1.]])"
   ],
   "outputs": [],
   "metadata": {}
  },
  {
   "cell_type": "code",
   "execution_count": 5,
   "source": [
    "NX.shape, NY.shape"
   ],
   "outputs": [
    {
     "output_type": "execute_result",
     "data": {
      "text/plain": [
       "((2, 1), (2, 1))"
      ]
     },
     "metadata": {},
     "execution_count": 5
    }
   ],
   "metadata": {}
  },
  {
   "cell_type": "code",
   "execution_count": 6,
   "source": [
    "# Plot the GS\n",
    "fig = plt.figure(figsize=(4, 4))\n",
    "ax = fig.add_subplot(111)\n",
    "ax.plot([0., NX[0,0]], [0., 0.], 'k-', lw=3)\n",
    "ax.plot([0., 0.], [0., NY[1,0]], 'k-', lw=3)\n",
    "ax.set_xlim(-2, 2)\n",
    "ax.set_ylim(-2, 2)\n",
    "ax.spines[\"top\"].set_visible(False)\n",
    "ax.spines[\"right\"].set_visible(False)\n",
    "ax.spines[\"left\"].set_position(\"zero\")\n",
    "ax.spines[\"bottom\"].set_position(\"zero\")\n",
    "plt.show()"
   ],
   "outputs": [
    {
     "output_type": "display_data",
     "data": {
      "image/png": "[encoded data removed]",
      "text/plain": [
       "<Figure size 288x288 with 1 Axes>"
      ]
     },
     "metadata": {
      "needs_background": "light"
     }
    }
   ],
   "metadata": {}
  },
  {
   "cell_type": "code",
   "execution_count": 7,
   "source": [
    "# Local frame\n",
    "x = np.array([[.5*np.sqrt(2)], [.5*np.sqrt(2)]])\n",
    "y = np.array([[-.5*np.sqrt(2)], [.5*np.sqrt(2)]])\n",
    "\n",
    "# Plot the GCS and BCS\n",
    "fig = plt.figure(figsize=(4, 4))\n",
    "ax = fig.add_subplot(111)\n",
    "ax.plot([0., NX[0,0]], [0., 0.], 'k-', lw=3)\n",
    "ax.plot([0., 0.], [0., NY[1,0]], 'k-', lw=3)\n",
    "ax.plot([0., x[0,0]], [0., x[1,0]], 'r-', lw=3)\n",
    "ax.plot([0., y[0,0]], [0., y[1,0]], 'r-', lw=3)\n",
    "ax.set_xlim(-2, 2)\n",
    "ax.set_ylim(-2, 2)\n",
    "ax.spines[\"top\"].set_visible(False)\n",
    "ax.spines[\"right\"].set_visible(False)\n",
    "ax.spines[\"left\"].set_position(\"zero\")\n",
    "ax.spines[\"bottom\"].set_position(\"zero\")\n",
    "plt.show()"
   ],
   "outputs": [
    {
     "output_type": "display_data",
     "data": {
      "image/png": "[encoded data removed]",
      "text/plain": [
       "<Figure size 288x288 with 1 Axes>"
      ]
     },
     "metadata": {
      "needs_background": "light"
     }
    }
   ],
   "metadata": {}
  },
  {
   "cell_type": "markdown",
   "source": [
    "To get the rotation matrix for the conversion between the two CS, we need to see that:\n",
    "$$\\begin{align*}\n",
    "\\begin{bmatrix}\n",
    "^{\\mathcal{B}}\\hat{\\mathbf{x}}\\\\\n",
    "^{\\mathcal{B}}\\hat{\\mathbf{y}}\n",
    "\\end{bmatrix} &= ^{\\mathcal{B}}\\mathbf{R}_{\\mathcal{N}} \\begin{bmatrix}\n",
    "^{\\mathcal{N}}\\hat{\\mathbf{X}}\\\\\n",
    "^{\\mathcal{N}}\\hat{\\mathbf{Y}}\n",
    "\\end{bmatrix}\\\\\n",
    " &= \\begin{bmatrix}\n",
    " ^{\\mathcal{N}}\\hat{\\mathbf{x}} \\cdot ^{\\mathcal{N}}\\hat{\\mathbf{X}} & ^{\\mathcal{N}}\\hat{\\mathbf{x}} \\cdot ^{\\mathcal{N}}\\hat{\\mathbf{Y}}\\\\\n",
    " ^{\\mathcal{N}}\\hat{\\mathbf{y}} \\cdot ^{\\mathcal{N}}\\hat{\\mathbf{X}} & ^{\\mathcal{N}}\\hat{\\mathbf{y}} \\cdot ^{\\mathcal{N}}\\hat{\\mathbf{Y}}\n",
    " \\end{bmatrix} \\begin{bmatrix}\n",
    "^{\\mathcal{N}}\\hat{\\mathbf{X}}\\\\\n",
    "^{\\mathcal{N}}\\hat{\\mathbf{Y}}\n",
    "\\end{bmatrix} \\\\\n",
    "\\Rightarrow \\mathbf{R} &= \\begin{bmatrix}\n",
    "^{\\mathcal{N}}\\hat{\\mathbf{x}}\\\\\n",
    "^{\\mathcal{N}}\\hat{\\mathbf{y}}\n",
    "\\end{bmatrix} \\cdot \\begin{bmatrix}\n",
    "^{\\mathcal{N}}\\hat{\\mathbf{X}} & ^{\\mathcal{N}}\\hat{\\mathbf{Y}}\n",
    "\\end{bmatrix}\n",
    "\\end{align*}$$"
   ],
   "metadata": {}
  },
  {
   "cell_type": "code",
   "execution_count": 8,
   "source": [
    "bv = np.array([[0.5*np.sqrt(2)], [0.5*np.sqrt(2)]])\n",
    "print(v)"
   ],
   "outputs": [
    {
     "output_type": "error",
     "ename": "NameError",
     "evalue": "name 'v' is not defined",
     "traceback": [
      "\u001b[0;31m---------------------------------------------------------------------------\u001b[0m",
      "\u001b[0;31mNameError\u001b[0m                                 Traceback (most recent call last)",
      "\u001b[0;32m/tmp/ipykernel_23129/815778167.py\u001b[0m in \u001b[0;36m<module>\u001b[0;34m\u001b[0m\n\u001b[1;32m      1\u001b[0m \u001b[0mbv\u001b[0m \u001b[0;34m=\u001b[0m \u001b[0mnp\u001b[0m\u001b[0;34m.\u001b[0m\u001b[0marray\u001b[0m\u001b[0;34m(\u001b[0m\u001b[0;34m[\u001b[0m\u001b[0;34m[\u001b[0m\u001b[0;36m0.5\u001b[0m\u001b[0;34m*\u001b[0m\u001b[0mnp\u001b[0m\u001b[0;34m.\u001b[0m\u001b[0msqrt\u001b[0m\u001b[0;34m(\u001b[0m\u001b[0;36m2\u001b[0m\u001b[0;34m)\u001b[0m\u001b[0;34m]\u001b[0m\u001b[0;34m,\u001b[0m \u001b[0;34m[\u001b[0m\u001b[0;36m0.5\u001b[0m\u001b[0;34m*\u001b[0m\u001b[0mnp\u001b[0m\u001b[0;34m.\u001b[0m\u001b[0msqrt\u001b[0m\u001b[0;34m(\u001b[0m\u001b[0;36m2\u001b[0m\u001b[0;34m)\u001b[0m\u001b[0;34m]\u001b[0m\u001b[0;34m]\u001b[0m\u001b[0;34m)\u001b[0m\u001b[0;34m\u001b[0m\u001b[0;34m\u001b[0m\u001b[0m\n\u001b[0;32m----> 2\u001b[0;31m \u001b[0mprint\u001b[0m\u001b[0;34m(\u001b[0m\u001b[0mv\u001b[0m\u001b[0;34m)\u001b[0m\u001b[0;34m\u001b[0m\u001b[0;34m\u001b[0m\u001b[0m\n\u001b[0m",
      "\u001b[0;31mNameError\u001b[0m: name 'v' is not defined"
     ]
    }
   ],
   "metadata": {}
  },
  {
   "cell_type": "code",
   "execution_count": null,
   "source": [
    "v @ NX.T"
   ],
   "outputs": [
    {
     "output_type": "execute_result",
     "data": {
      "text/plain": [
       "array([[0.70710678, 0.        ],\n",
       "       [0.70710678, 0.        ]])"
      ]
     },
     "metadata": {},
     "execution_count": 26
    }
   ],
   "metadata": {}
  },
  {
   "cell_type": "code",
   "execution_count": null,
   "source": [
    "w = np.array([[-.5*np.sqrt(2)], [0.5*np.sqrt(2)]])\n",
    "print(w)"
   ],
   "outputs": [
    {
     "output_type": "stream",
     "name": "stdout",
     "text": [
      "[[-0.70710678]\n",
      " [ 0.70710678]]\n"
     ]
    }
   ],
   "metadata": {}
  },
  {
   "cell_type": "code",
   "execution_count": null,
   "source": [
    "w @ NY.T"
   ],
   "outputs": [
    {
     "output_type": "execute_result",
     "data": {
      "text/plain": [
       "array([[ 0.        , -0.70710678],\n",
       "       [ 0.        ,  0.70710678]])"
      ]
     },
     "metadata": {},
     "execution_count": 36
    }
   ],
   "metadata": {}
  },
  {
   "cell_type": "markdown",
   "source": [
    "## Theory"
   ],
   "metadata": {}
  },
  {
   "cell_type": "markdown",
   "source": [
    "The unit vectors of the global coordinate system (GCS) expressed in global coordinates:\n",
    "$$\n",
    "\\begin{bmatrix}\n",
    "\\mid & \\mid & \\mid\\\\\n",
    "^{\\mathcal{N}}\\hat{\\mathbf{X}} & ^{\\mathcal{N}}\\hat{\\mathbf{Y}} & ^{\\mathcal{N}}\\hat{\\mathbf{Z}}\\\\\n",
    "\\mid & \\mid & \\mid\n",
    "\\end{bmatrix} = \\begin{bmatrix}\n",
    "1 \\hat{\\mathbf{I}} & 0 \\hat{\\mathbf{I}} & 0 \\hat{\\mathbf{I}}\\\\\n",
    "0 \\hat{\\mathbf{J}} & 1 \\hat{\\mathbf{J}} & 0 \\hat{\\mathbf{J}}\\\\\n",
    "0 \\hat{\\mathbf{K}} & 0 \\hat{\\mathbf{K}} & 1 \\hat{\\mathbf{K}}\n",
    "\\end{bmatrix}\n",
    "$$"
   ],
   "metadata": {}
  },
  {
   "cell_type": "code",
   "execution_count": 9,
   "source": [
    "NXYZ = np.array([[1., 0., 0.], [0., 1., 0.], [0., 0., 1.]])\n",
    "print(NXYZ)"
   ],
   "outputs": [
    {
     "output_type": "stream",
     "name": "stdout",
     "text": [
      "[[1. 0. 0.]\n",
      " [0. 1. 0.]\n",
      " [0. 0. 1.]]\n"
     ]
    }
   ],
   "metadata": {}
  },
  {
   "cell_type": "markdown",
   "source": [
    "The unit vectors of the body-fixed coordinate system (BCS) expressed in local coordinates:\n",
    "$$\n",
    "\\begin{bmatrix}\n",
    "\\mid & \\mid & \\mid\\\\\n",
    "^{\\mathcal{B}}\\hat{\\mathbf{x}} & ^{\\mathcal{B}}\\hat{\\mathbf{y}} & ^{\\mathcal{B}}\\hat{\\mathbf{z}}\\\\\n",
    "\\mid & \\mid & \\mid\n",
    "\\end{bmatrix} = \\begin{bmatrix}\n",
    "1 \\hat{\\mathbf{i}} & 0 \\hat{\\mathbf{i}} & 0 \\hat{\\mathbf{i}}\\\\\n",
    "0 \\hat{\\mathbf{j}} & 1 \\hat{\\mathbf{j}} & 0 \\hat{\\mathbf{j}}\\\\\n",
    "0 \\hat{\\mathbf{k}} & 0 \\hat{\\mathbf{k}} & 1 \\hat{\\mathbf{k}}\n",
    "\\end{bmatrix}\n",
    "$$\n",
    "\n",
    "The unit vectors of the body-fixed coordinate system (BCS) expressed in global coordinates:\n",
    "$$\n",
    "\\begin{bmatrix}\n",
    "\\mid & \\mid & \\mid\\\\\n",
    "^{\\mathcal{N}}\\hat{\\mathbf{x}} & ^{\\mathcal{N}}\\hat{\\mathbf{y}} & ^{\\mathcal{N}}\\hat{\\mathbf{z}}\\\\\n",
    "\\mid & \\mid & \\mid\n",
    "\\end{bmatrix} = \\begin{bmatrix}\n",
    "\\frac{1}{2} \\sqrt{2} \\hat{\\mathbf{I}} & -\\frac{1}{2} \\sqrt{2} \\hat{\\mathbf{I}} & 0 \\hat{\\mathbf{I}}\\\\\n",
    "\\frac{1}{2} \\sqrt{2} \\hat{\\mathbf{J}} & \\frac{1}{2} \\sqrt{2} \\hat{\\mathbf{J}} & 0 \\hat{\\mathbf{J}}\\\\\n",
    "0 \\hat{\\mathbf{K}} & 0 \\hat{\\mathbf{K}} & 1 \\hat{\\mathbf{K}}\n",
    "\\end{bmatrix}\n",
    "$$"
   ],
   "metadata": {}
  },
  {
   "cell_type": "code",
   "execution_count": 10,
   "source": [
    "bxyz = np.array([[1., 0., 0.], [0., 1., 0.], [0., 0., 1.]])\n",
    "print(bxyz)"
   ],
   "outputs": [
    {
     "output_type": "stream",
     "name": "stdout",
     "text": [
      "[[1. 0. 0.]\n",
      " [0. 1. 0.]\n",
      " [0. 0. 1.]]\n"
     ]
    }
   ],
   "metadata": {}
  },
  {
   "cell_type": "code",
   "execution_count": 11,
   "source": [
    "Nxyz = np.array([[0.5*np.sqrt(2), -0.5*np.sqrt(2), 0.], [0.5*np.sqrt(2), 0.5*np.sqrt(2), 0.], [0., 0., 1.]])\n",
    "print(Nxyz)"
   ],
   "outputs": [
    {
     "output_type": "stream",
     "name": "stdout",
     "text": [
      "[[ 0.70710678 -0.70710678  0.        ]\n",
      " [ 0.70710678  0.70710678  0.        ]\n",
      " [ 0.          0.          1.        ]]\n"
     ]
    }
   ],
   "metadata": {}
  },
  {
   "cell_type": "code",
   "execution_count": 12,
   "source": [
    "bRN = np.dot(Nxyz.T, NXYZ)\n",
    "print(bRN)"
   ],
   "outputs": [
    {
     "output_type": "stream",
     "name": "stdout",
     "text": [
      "[[ 0.70710678  0.70710678  0.        ]\n",
      " [-0.70710678  0.70710678  0.        ]\n",
      " [ 0.          0.          1.        ]]\n"
     ]
    }
   ],
   "metadata": {}
  },
  {
   "cell_type": "code",
   "execution_count": 13,
   "source": [
    "b = bRN @ Nxyz\n",
    "print(b)"
   ],
   "outputs": [
    {
     "output_type": "stream",
     "name": "stdout",
     "text": [
      "[[ 1.00000000e+00 -4.26642159e-17  0.00000000e+00]\n",
      " [-4.26642159e-17  1.00000000e+00  0.00000000e+00]\n",
      " [ 0.00000000e+00  0.00000000e+00  1.00000000e+00]]\n"
     ]
    }
   ],
   "metadata": {}
  },
  {
   "cell_type": "code",
   "execution_count": 14,
   "source": [
    "bv = np.array([[np.sqrt(2)], [np.sqrt(2)], [0.]])\n",
    "print(bv)"
   ],
   "outputs": [
    {
     "output_type": "stream",
     "name": "stdout",
     "text": [
      "[[1.41421356]\n",
      " [1.41421356]\n",
      " [0.        ]]\n"
     ]
    }
   ],
   "metadata": {}
  },
  {
   "cell_type": "code",
   "execution_count": 15,
   "source": [
    "Nv = bRN.T @ bv\n",
    "print(Nv)"
   ],
   "outputs": [
    {
     "output_type": "stream",
     "name": "stdout",
     "text": [
      "[[0.]\n",
      " [2.]\n",
      " [0.]]\n"
     ]
    }
   ],
   "metadata": {}
  },
  {
   "cell_type": "code",
   "execution_count": 16,
   "source": [
    "Nw = np.array([[1.], [0.], [0.]])\n",
    "bw = bRN @ Nw\n",
    "print(bw)"
   ],
   "outputs": [
    {
     "output_type": "stream",
     "name": "stdout",
     "text": [
      "[[ 0.70710678]\n",
      " [-0.70710678]\n",
      " [ 0.        ]]\n"
     ]
    }
   ],
   "metadata": {}
  },
  {
   "cell_type": "code",
   "execution_count": null,
   "source": [],
   "outputs": [],
   "metadata": {}
  }
 ],
 "metadata": {
  "orig_nbformat": 4,
  "language_info": {
   "name": "python",
   "version": "3.9.6",
   "mimetype": "text/x-python",
   "codemirror_mode": {
    "name": "ipython",
    "version": 3
   },
   "pygments_lexer": "ipython3",
   "nbconvert_exporter": "python",
   "file_extension": ".py"
  },
  "kernelspec": {
   "name": "python3",
   "display_name": "Python 3.9.6 64-bit ('pymocap': conda)"
  },
  "interpreter": {
   "hash": "881f6c43a558ba5ee561caab086d854fa4be44c21b871741cdf14436dc870ac5"
  }
 },
 "nbformat": 4,
 "nbformat_minor": 2
}