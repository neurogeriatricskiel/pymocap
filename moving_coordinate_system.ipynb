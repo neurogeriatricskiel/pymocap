{
 "cells": [
  {
   "cell_type": "code",
   "execution_count": 1,
   "source": [
    "import numpy as np\n",
    "import matplotlib as mpl\n",
    "import matplotlib.pyplot as plt"
   ],
   "outputs": [],
   "metadata": {}
  },
  {
   "cell_type": "code",
   "execution_count": 6,
   "source": [
    "N = 10\n",
    "h =  1\n",
    "X = np.hstack((np.arange(N).reshape(-1,1), np.zeros((N, 1)), h*np.ones((N, 1))))"
   ],
   "outputs": [],
   "metadata": {}
  },
  {
   "cell_type": "code",
   "execution_count": 5,
   "source": [
    "X"
   ],
   "outputs": [
    {
     "output_type": "execute_result",
     "data": {
      "text/plain": [
       "array([[0., 0., 1.],\n",
       "       [1., 0., 1.],\n",
       "       [2., 0., 1.],\n",
       "       [3., 0., 1.],\n",
       "       [4., 0., 1.],\n",
       "       [5., 0., 1.],\n",
       "       [6., 0., 1.],\n",
       "       [7., 0., 1.],\n",
       "       [8., 0., 1.],\n",
       "       [9., 0., 1.]])"
      ]
     },
     "metadata": {},
     "execution_count": 5
    }
   ],
   "metadata": {}
  },
  {
   "cell_type": "code",
   "execution_count": null,
   "source": [],
   "outputs": [],
   "metadata": {}
  }
 ],
 "metadata": {
  "orig_nbformat": 4,
  "language_info": {
   "name": "python",
   "version": "3.9.6",
   "mimetype": "text/x-python",
   "codemirror_mode": {
    "name": "ipython",
    "version": 3
   },
   "pygments_lexer": "ipython3",
   "nbconvert_exporter": "python",
   "file_extension": ".py"
  },
  "kernelspec": {
   "name": "python3",
   "display_name": "Python 3.9.6 64-bit ('pymocap': conda)"
  },
  "interpreter": {
   "hash": "881f6c43a558ba5ee561caab086d854fa4be44c21b871741cdf14436dc870ac5"
  }
 },
 "nbformat": 4,
 "nbformat_minor": 2
}