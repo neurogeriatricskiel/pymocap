{
 "cells": [
  {
   "cell_type": "code",
   "execution_count": 1,
   "source": [
    "from lib.utils import *"
   ],
   "outputs": [],
   "metadata": {}
  },
  {
   "cell_type": "code",
   "execution_count": 2,
   "source": [
    "PARENT_FOLDER = \"/mnt/neurogeriatrics_data/Keep Control/Data/overground per disease/older adults/optical/pp010\""
   ],
   "outputs": [],
   "metadata": {}
  },
  {
   "cell_type": "code",
   "execution_count": 3,
   "source": [
    "import os"
   ],
   "outputs": [],
   "metadata": {}
  },
  {
   "cell_type": "code",
   "execution_count": 4,
   "source": [
    "filenames = [filename for filename in os.listdir(PARENT_FOLDER) if filename.endswith(\".mat\")]\n",
    "filenames"
   ],
   "outputs": [
    {
     "output_type": "execute_result",
     "data": {
      "text/plain": [
       "['omc_backwards.mat',\n",
       " 'omc_calibration_1.mat',\n",
       " 'omc_calibration_2.mat',\n",
       " 'omc_calibration_3.mat',\n",
       " 'omc_calibration_4.mat',\n",
       " 'omc_obstacle_high.mat',\n",
       " 'omc_obstacle_low.mat',\n",
       " 'omc_sideways.mat',\n",
       " 'omc_slalom.mat',\n",
       " 'omc_walk_fast.mat',\n",
       " 'omc_walk_preferred.mat',\n",
       " 'omc_walk_reaction.mat',\n",
       " 'omc_walk_slow.mat',\n",
       " 'omc_walk_stroop.mat',\n",
       " 'omc_walk_turn.mat']"
      ]
     },
     "metadata": {},
     "execution_count": 4
    }
   ],
   "metadata": {}
  },
  {
   "cell_type": "code",
   "execution_count": null,
   "source": [],
   "outputs": [],
   "metadata": {}
  }
 ],
 "metadata": {
  "orig_nbformat": 4,
  "language_info": {
   "name": "python",
   "version": "3.9.6",
   "mimetype": "text/x-python",
   "codemirror_mode": {
    "name": "ipython",
    "version": 3
   },
   "pygments_lexer": "ipython3",
   "nbconvert_exporter": "python",
   "file_extension": ".py"
  },
  "kernelspec": {
   "name": "python3",
   "display_name": "Python 3.9.6 64-bit ('pymocap': conda)"
  },
  "interpreter": {
   "hash": "881f6c43a558ba5ee561caab086d854fa4be44c21b871741cdf14436dc870ac5"
  }
 },
 "nbformat": 4,
 "nbformat_minor": 2
}