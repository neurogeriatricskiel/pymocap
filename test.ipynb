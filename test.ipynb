{
 "cells": [
  {
   "cell_type": "markdown",
   "source": [
    "## 0. Prerequisites"
   ],
   "metadata": {}
  },
  {
   "cell_type": "markdown",
   "source": [
    "Load necessary Python libraries and define the directory where the data can be found."
   ],
   "metadata": {}
  },
  {
   "cell_type": "code",
   "execution_count": 1,
   "source": [
    "import numpy as np\r\n",
    "import matplotlib as mpl\r\n",
    "import matplotlib.pyplot as plt\r\n",
    "# import plotly.graph_objects as go\r\n",
    "# from plotly.subplots import make_subplots\r\n",
    "from lib.utils import _load_file\r\n",
    "from lib.preprocessing import _predict_missing_markers, _butter_lowpass, _align_trajectories_with_walking_direction\r\n",
    "from lib.analysis import _get_gait_events_from_OMC\r\n",
    "import os\r\n",
    "from scipy.signal import find_peaks"
   ],
   "outputs": [],
   "metadata": {}
  },
  {
   "cell_type": "code",
   "execution_count": 2,
   "source": [
    "# Set data directory\r\n",
    "# PARENT_FOLDER = \"/mnt/neurogeriatrics_data/Keep Control/Data/lab dataset\"  # on Linux\r\n",
    "PARENT_FOLDER = \"Z:\\\\Keep Control\\\\Data\\\\lab dataset\"  # on Windows\r\n",
    "\r\n",
    "# Get a list of participant ids\r\n",
    "participant_ids = [folder_name for folder_name in os.listdir(PARENT_FOLDER) if folder_name.startswith(\"pp\")]\r\n",
    "print(f\"Number of participants: {len(participant_ids)}\")"
   ],
   "outputs": [
    {
     "output_type": "stream",
     "name": "stdout",
     "text": [
      "Number of participants: 120\n"
     ]
    }
   ],
   "metadata": {}
  },
  {
   "cell_type": "markdown",
   "source": [
    "## 1. Get the data"
   ],
   "metadata": {}
  },
  {
   "cell_type": "code",
   "execution_count": 3,
   "source": [
    "# Trial to investigate\r\n",
    "trial_name = \"walk_preferred\"\r\n",
    "\r\n",
    "# Loop over the participants\r\n",
    "for (ix_participant, participant_id) in enumerate(participant_ids[5:6]):\r\n",
    "\r\n",
    "    # Get a list of OMC data files\r\n",
    "    omc_filenames = [file_name for file_name in os.listdir(os.path.join(PARENT_FOLDER, participant_id, \"optical\")) if file_name.endswith(\".mat\")]\r\n",
    "\r\n",
    "    # Select only the file corresponding to the trial of interest\r\n",
    "    ix_omc_filename = [ix for ix in range(len(omc_filenames)) if (\"walk_preferred\" in omc_filenames[ix])]\r\n",
    "    if len(ix_omc_filename) > 0:\r\n",
    "        ix_omc_filename = ix_omc_filename[0]\r\n",
    "        omc_filename = omc_filenames[ix_omc_filename]\r\n",
    "\r\n",
    "        # Check if there is an equivalent IMU file\r\n",
    "        if os.path.isfile(os.path.join(PARENT_FOLDER, participant_id, \"imu\", omc_filename.replace(\"omc_\", \"imu_\"))):\r\n",
    "            imu_filename = omc_filename.replace(\"omc_\", \"imu_\")\r\n",
    "\r\n",
    "            # Load the data\r\n",
    "            omc_data = _load_file(os.path.join(PARENT_FOLDER, participant_id, \"optical\", omc_filename))\r\n",
    "            imu_data = _load_file(os.path.join(PARENT_FOLDER, participant_id, \"imu\", imu_filename))\r\n",
    "print(f\"Participant: {participant_id}\")"
   ],
   "outputs": [
    {
     "output_type": "stream",
     "name": "stdout",
     "text": [
      "Participant: pp006\n"
     ]
    }
   ],
   "metadata": {}
  },
  {
   "cell_type": "markdown",
   "source": [
    "## 2. Preprocess the data\r\n",
    "Get the data sampling frequency, and explore the number of time steps (frames) and the number of markers used. Then, account for any gaps in the marker data by filling gaps based on marker intercorrelations. Low-pass filter the marker data to reduce the effects of high-frequency noise. Finally, align the marker trajectories with the main direction of walking."
   ],
   "metadata": {}
  },
  {
   "cell_type": "code",
   "execution_count": 4,
   "source": [
    "# Get sampling frequency\r\n",
    "fs = omc_data[\"fs\"]\r\n",
    "print(f\"Sampling frequency: {fs} Hz\")"
   ],
   "outputs": [
    {
     "output_type": "stream",
     "name": "stdout",
     "text": [
      "Sampling frequency: 200 Hz\n"
     ]
    }
   ],
   "metadata": {}
  },
  {
   "cell_type": "code",
   "execution_count": 5,
   "source": [
    "# Get marker position data, and data dimensions\r\n",
    "raw_data = omc_data[\"pos\"][:,:3,:]\r\n",
    "n_time_steps, n_dimensions, n_markers = raw_data.shape\r\n",
    "\r\n",
    "# Reshape data to (n_time_steps, n_dimensions * n_markers)\r\n",
    "raw_data = np.reshape(raw_data, (n_time_steps, n_dimensions*n_markers), order=\"F\")\r\n",
    "\r\n",
    "# Fill gaps in marker data\r\n",
    "filled_data = _predict_missing_markers(raw_data)\r\n",
    "\r\n",
    "# Low-pass filter, and reshape back to original shape\r\n",
    "filtered_data = _butter_lowpass(filled_data, fs)\r\n",
    "filtered_data = np.reshape(filtered_data, (n_time_steps, n_dimensions, n_markers), order=\"F\")\r\n",
    "\r\n",
    "# Align data with main direction of walking\r\n",
    "aligned_data = _align_trajectories_with_walking_direction(filtered_data, omc_data[\"marker_location\"])"
   ],
   "outputs": [],
   "metadata": {}
  },
  {
   "cell_type": "code",
   "execution_count": 9,
   "source": [
    "# Visualize\r\n",
    "fig, axs = plt.subplots(1, 2, sharex=True, sharey=True)\r\n",
    "axs[0].plot(filtered_data[:,0,np.argwhere(omc_data[\"marker_location\"]==\"l_heel\")[:,0]], filtered_data[:,1,np.argwhere(omc_data[\"marker_location\"]==\"l_heel\")[:,0]], 'b-')\r\n",
    "axs[0].plot(filtered_data[:,0,np.argwhere(omc_data[\"marker_location\"]==\"r_heel\")[:,0]], filtered_data[:,1,np.argwhere(omc_data[\"marker_location\"]==\"r_heel\")[:,0]], 'r-')\r\n",
    "axs[1].plot(aligned_data[:,0,np.argwhere(omc_data[\"marker_location\"]==\"l_heel\")[:,0]], aligned_data[:,1,np.argwhere(omc_data[\"marker_location\"]==\"l_heel\")[:,0]], 'b-')\r\n",
    "axs[1].plot(aligned_data[:,0,np.argwhere(omc_data[\"marker_location\"]==\"r_heel\")[:,0]], aligned_data[:,1,np.argwhere(omc_data[\"marker_location\"]==\"r_heel\")[:,0]], 'r-')\r\n",
    "plt.show()"
   ],
   "outputs": [
    {
     "output_type": "display_data",
     "data": {
      "image/png": "[encoded data removed]",
      "text/plain": [
       "<Figure size 432x288 with 2 Axes>"
      ]
     },
     "metadata": {
      "needs_background": "light"
     }
    }
   ],
   "metadata": {}
  },
  {
   "cell_type": "code",
   "execution_count": null,
   "source": [],
   "outputs": [],
   "metadata": {}
  }
 ],
 "metadata": {
  "orig_nbformat": 4,
  "language_info": {
   "name": "python",
   "version": "3.9.5",
   "mimetype": "text/x-python",
   "codemirror_mode": {
    "name": "ipython",
    "version": 3
   },
   "pygments_lexer": "ipython3",
   "nbconvert_exporter": "python",
   "file_extension": ".py"
  },
  "kernelspec": {
   "name": "python3",
   "display_name": "Python 3.9.5 64-bit ('base': conda)"
  },
  "interpreter": {
   "hash": "ecf5722fdaf1897a315d257d89d94520bfcaa453217d5becf09b39e73618b0de"
  }
 },
 "nbformat": 4,
 "nbformat_minor": 2
}