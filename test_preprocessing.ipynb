{
 "cells": [
  {
   "cell_type": "code",
   "execution_count": 1,
   "source": [
    "from lib.utils import _load_file\n",
    "from lib.preprocessing import _predict_missing_markers\n",
    "import os\n",
    "import numpy as np"
   ],
   "outputs": [],
   "metadata": {}
  },
  {
   "cell_type": "code",
   "execution_count": 7,
   "source": [
    "PARENT_FOLDER = \"./data/test\"\n",
    "filename = \"WalkL_0001.mat\"\n",
    "data = _load_file(os.path.join(PARENT_FOLDER, filename))"
   ],
   "outputs": [],
   "metadata": {}
  },
  {
   "cell_type": "code",
   "execution_count": 4,
   "source": [
    "B = _predict_missing_markers(data)"
   ],
   "outputs": [],
   "metadata": {}
  },
  {
   "cell_type": "code",
   "execution_count": 6,
   "source": [
    "B[:,:6]"
   ],
   "outputs": [
    {
     "output_type": "execute_result",
     "data": {
      "text/plain": [
       "array([[ 150.56048045,  -59.44078136, -824.65454455,  231.42807045,\n",
       "         -98.16179136, -715.30184455],\n",
       "       [ 138.50790591,  -60.22262227, -826.39753864,  221.51532591,\n",
       "         -97.96517227, -718.75521864],\n",
       "       [ 125.27600955,  -60.69715727, -828.20927045,  211.58481955,\n",
       "         -97.33949727, -722.42616045],\n",
       "       ...,\n",
       "       [ -46.67556818,  -55.91529545, -842.28136318,           nan,\n",
       "                  nan,           nan],\n",
       "       [ -61.23648955,  -56.87784545, -843.14951545,           nan,\n",
       "                  nan,           nan],\n",
       "       [ -75.45817136,  -57.21060045, -843.50842182,           nan,\n",
       "                  nan,           nan]])"
      ]
     },
     "metadata": {},
     "execution_count": 6
    }
   ],
   "metadata": {}
  },
  {
   "cell_type": "code",
   "execution_count": 9,
   "source": [
    "Xnew = np.tile(x.reshape(-1,1), (1, 37))"
   ],
   "outputs": [],
   "metadata": {}
  },
  {
   "cell_type": "code",
   "execution_count": 10,
   "source": [
    "Xnew.shape"
   ],
   "outputs": [
    {
     "output_type": "execute_result",
     "data": {
      "text/plain": [
       "(4300, 37)"
      ]
     },
     "metadata": {},
     "execution_count": 10
    }
   ],
   "metadata": {}
  },
  {
   "cell_type": "code",
   "execution_count": null,
   "source": [],
   "outputs": [],
   "metadata": {}
  }
 ],
 "metadata": {
  "orig_nbformat": 4,
  "language_info": {
   "name": "python",
   "version": "3.9.6",
   "mimetype": "text/x-python",
   "codemirror_mode": {
    "name": "ipython",
    "version": 3
   },
   "pygments_lexer": "ipython3",
   "nbconvert_exporter": "python",
   "file_extension": ".py"
  },
  "kernelspec": {
   "name": "python3",
   "display_name": "Python 3.9.6 64-bit ('pymocap': conda)"
  },
  "interpreter": {
   "hash": "881f6c43a558ba5ee561caab086d854fa4be44c21b871741cdf14436dc870ac5"
  }
 },
 "nbformat": 4,
 "nbformat_minor": 2
}