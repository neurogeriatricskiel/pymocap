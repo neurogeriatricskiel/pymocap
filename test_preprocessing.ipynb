{
 "cells": [
  {
   "cell_type": "code",
   "execution_count": 1,
   "source": [
    "from lib.utils import _load_file\n",
    "from lib.preprocessing import _predict_missing_markers\n",
    "import os\n",
    "import numpy as np"
   ],
   "outputs": [],
   "metadata": {}
  },
  {
   "cell_type": "code",
   "execution_count": 2,
   "source": [
    "PARENT_FOLDER = \"./data/test\"\n",
    "filename = \"WalkL_0001.mat\"\n",
    "data_gaps = _load_file(os.path.join(PARENT_FOLDER, filename))\n",
    "distal_threshold = 0.500"
   ],
   "outputs": [],
   "metadata": {}
  },
  {
   "cell_type": "code",
   "execution_count": 3,
   "source": [
    "ix_cols_2_zero = _predict_missing_markers(data_gaps)\n",
    "ix_cols_2_zero"
   ],
   "outputs": [
    {
     "output_type": "execute_result",
     "data": {
      "text/plain": [
       "array([ 27,  28,  29,  30,  31,  32,  39,  40,  41,  42,  43,  44,  51,\n",
       "        52,  53,  57,  58,  59,  60,  61,  62,  66,  67,  68,  69,  70,\n",
       "        71,  84,  85,  86,  96,  97,  98,  99, 100, 101])"
      ]
     },
     "metadata": {},
     "execution_count": 3
    }
   ],
   "metadata": {}
  },
  {
   "cell_type": "code",
   "execution_count": null,
   "source": [],
   "outputs": [],
   "metadata": {}
  }
 ],
 "metadata": {
  "orig_nbformat": 4,
  "language_info": {
   "name": "python",
   "version": "3.9.6",
   "mimetype": "text/x-python",
   "codemirror_mode": {
    "name": "ipython",
    "version": 3
   },
   "pygments_lexer": "ipython3",
   "nbconvert_exporter": "python",
   "file_extension": ".py"
  },
  "kernelspec": {
   "name": "python3",
   "display_name": "Python 3.9.6 64-bit ('pymocap': conda)"
  },
  "interpreter": {
   "hash": "881f6c43a558ba5ee561caab086d854fa4be44c21b871741cdf14436dc870ac5"
  }
 },
 "nbformat": 4,
 "nbformat_minor": 2
}